{
  "nbformat": 4,
  "nbformat_minor": 0,
  "metadata": {
    "colab": {
      "name": "test.ipynb",
      "provenance": [],
      "collapsed_sections": [],
      "authorship_tag": "ABX9TyMzak5ghFQ3nW1O1tKVipPd",
      "include_colab_link": true
    },
    "kernelspec": {
      "name": "python3",
      "display_name": "Python 3"
    },
    "language_info": {
      "name": "python"
    }
  },
  "cells": [
    {
      "cell_type": "markdown",
      "metadata": {
        "id": "view-in-github",
        "colab_type": "text"
      },
      "source": [
        "<a href=\"https://colab.research.google.com/github/HarshaVijiyakumar/Learn_Python/blob/master/FileHandling.ipynb\" target=\"_parent\"><img src=\"https://colab.research.google.com/assets/colab-badge.svg\" alt=\"Open In Colab\"/></a>"
      ]
    },
    {
      "cell_type": "code",
      "execution_count": null,
      "metadata": {
        "colab": {
          "base_uri": "https://localhost:8080/"
        },
        "id": "VHt1K3ItIF_d",
        "outputId": "cf99e965-db8d-47cf-f90a-2c6fb8758caf"
      },
      "outputs": [
        {
          "output_type": "stream",
          "name": "stdout",
          "text": [
            "hello\n"
          ]
        }
      ],
      "source": [
        "print('hello')\n",
        "print('hello')"
      ]
    },
    {
      "cell_type": "code",
      "source": [
        "# Write a function in python to read the content from \n",
        "# a text file \"poem.txt\" line by line and display the same on screen.\n",
        "# Write a function in python to read the content from \n",
        "# a text file \"poem.txt\" line by line and display the same on screen.\n",
        "\n",
        "file = open(\"poem.txt\", \"w\")\n",
        "file.write(\"What is Gitea?\\nGitea is a painless self-hosted Git service. It is similar to GitHub, Bitbucket, and GitLab. Gitea is a fork of Gogs. See the Gitea Announcement blog post to read about the justification for a fork.\\nPurpose:\\nThe goal of this project is to provide the easiest, fastest, and most painless way of setting up a self-hosted Git service.\\nWith Go, this can be done platform-independently across all platforms which Go supports, including Linux, macOS, and Windows, on x86, amd64, ARM and PowerPC architectures. You can try it out using the online demo.\")\n",
        "file.close()\n",
        "\n",
        "file_open = open(\"poem.txt\",'r')\n",
        "\n",
        "Lines = file_open.readlines()\n",
        "\n",
        "for line in Lines:\n",
        "    print(line.strip())\n",
        "file_open.close()"
      ],
      "metadata": {
        "id": "uzLN17SXIPaT"
      },
      "execution_count": null,
      "outputs": []
    },
    {
      "cell_type": "code",
      "source": [
        "# Write a function in python to count the number of lines \n",
        "# from a text file \"story.txt\" which is not starting with an alphabet \"T\". \n",
        "\n",
        "# Example: If the file \"story.txt\" contains the following lines: A boy is playing there.\n",
        "# There is a playground.\n",
        "# An aeroplane is in the sky.\n",
        "# The sky is pink.\n",
        "# Alphabets and numbers are allowed in the password.\n",
        "# The function should display the output as 3\n",
        "\n",
        "file = open(\"poem.txt\", \"w\")\n",
        "file.write(\"A boy is playing there.\\nThere is a playground.\\nAn aeroplane is in the sky.\\nThe sky is pink.\\nAlphabets and numbers are allowed in the password.\")\n",
        "file.close()\n",
        "\n",
        "file_open = open(\"story.txt\",'r')\n",
        "Lines = file_open.readlines()\n",
        "count=0\n",
        "for line in Lines:\n",
        "    if line[0].upper() !='T':\n",
        "        count=count+1\n",
        "\n",
        "print(count)\n",
        "file_open.close()"
      ],
      "metadata": {
        "id": "Ty6FMcflJBtJ"
      },
      "execution_count": null,
      "outputs": []
    },
    {
      "cell_type": "code",
      "source": [
        "# Write a function in Python to count and display the total number of words in a text file.\n",
        "\n",
        "file_open = open(\"story.txt\",'r')\n",
        "Lines = file_open.readlines()\n",
        "count=0\n",
        "for line in Lines:\n",
        "    count= count+len(line.split(\" \"))\n",
        "\n",
        "print(count)\n",
        "file_open.close()"
      ],
      "metadata": {
        "id": "6FC8mzJyJHl7"
      },
      "execution_count": null,
      "outputs": []
    },
    {
      "cell_type": "code",
      "source": [
        "# Write a function in Python to read lines from a text file \"notes.txt\". \n",
        "# Your function should find and display the occurrence of the word \"the\".\n",
        "\n",
        "# For example: If the content of the file is:\n",
        "# \"India is the fastest-growing economy. India is looking for more investments around the globe. The whole world is looking at India as a great market. Most of the Indians can foresee the heights that India is capable of reaching.\"\n",
        "\n",
        "# The output should be 5.\n",
        "file = open(\"notes.txt\", \"w\")\n",
        "file.write(\"India is the fastest-growing economy. India is looking for more investments around the globe. The whole world is looking at India as a great market. Most of the Indians can foresee the heights that India is capable of reaching.\")\n",
        "file.close()\n",
        "\n",
        "file_open = open(\"notes.txt\",'r')\n",
        "Lines = file_open.readlines()\n",
        "words=[]\n",
        "for line in Lines:\n",
        "    words = words+line.strip().split(\" \")\n",
        "count = 0\n",
        "for w in words:\n",
        "    if w.upper()=='THE':\n",
        "        count=count+1\n",
        "print(count)\n",
        "file_open.close()"
      ],
      "metadata": {
        "id": "EJjFnkmSJKgP"
      },
      "execution_count": null,
      "outputs": []
    },
    {
      "cell_type": "code",
      "source": [
        "# Write a function display_words() in python to read lines from a text file \"story.txt\", \n",
        "# and display those words, which are less than 4 characters.\n",
        "def  display_words(Lines):\n",
        "    words=[]\n",
        "    for line in Lines:\n",
        "        words = words+line.strip().split(\" \")\n",
        "    for w in words:\n",
        "        if len(w)<4:\n",
        "            print(w)  \n",
        "    \n",
        "    \n",
        "file_open = open(\"story.txt\",'r')\n",
        "Lines = file_open.readlines()\n",
        "display_words(Lines)\n",
        "\n",
        "file_open.close()"
      ],
      "metadata": {
        "id": "r3CyyJO1JNQH"
      },
      "execution_count": null,
      "outputs": []
    },
    {
      "cell_type": "code",
      "source": [
        "# Write a function in Python to count the words \"this\" and \"these\" present in a text file \"article.txt\". \n",
        "# [Note that the words \"this\" and \"these\" are complete words] \n",
        "\n",
        "file = open(\"article.txt\", \"w\")\n",
        "file.write(\"Note that the words this and these are complete words.Note that the words this and these are complete words.Note that the words this and these are complete words.Note that the words this and these are complete words.Note that the words this and these are complete words.\")\n",
        "file.close()\n",
        "\n",
        "def  count_words(Lines):\n",
        "    words=[]\n",
        "    for line in Lines:\n",
        "        words = words+line.strip().split(\" \")\n",
        "    thesecount = 0\n",
        "    thiscount = 0\n",
        "    for w in words:\n",
        "        if w.upper()==\"THIS\":\n",
        "            thiscount=thiscount+1   \n",
        "        if w.upper()==\"THESE\":\n",
        "            thesecount=thesecount+1\n",
        "    print(\"This = \",thiscount)\n",
        "    print(\"These = \",thesecount)\n",
        "    \n",
        "file_open = open(\"article.txt\",'r')\n",
        "Lines = file_open.readlines()\n",
        "count_words(Lines)\n",
        "file_open.close()"
      ],
      "metadata": {
        "id": "CdpVmqbZJOJA"
      },
      "execution_count": null,
      "outputs": []
    },
    {
      "cell_type": "code",
      "source": [
        "# Write a function in Python to count words in a text file those are ending with alphabet \"e\"\n",
        "\n",
        "file_open = open(\"story.txt\",'r')\n",
        "Lines = file_open.readlines()\n",
        "words=[]\n",
        "for line in Lines:\n",
        "    words = words+line.strip().split(\" \")\n",
        "count = 0\n",
        "for w in words:\n",
        "    if w.endswith(\"e\"):\n",
        "        count=count+1\n",
        "print(count)\n",
        "file_open.close()"
      ],
      "metadata": {
        "id": "LDW6cLDiJRpw"
      },
      "execution_count": null,
      "outputs": []
    },
    {
      "cell_type": "code",
      "source": [
        "# Write a function in Python to count uppercase character in a text file.\n",
        "file_open = open(\"story.txt\",'r')\n",
        "Lines = file_open.readlines()\n",
        "count=0\n",
        "for line in Lines:\n",
        "    for i in line:\n",
        "        if i.isupper():\n",
        "            count=count+1\n",
        "print(count)\n",
        "file_open.close()"
      ],
      "metadata": {
        "id": "4_hYfBHcJSQN"
      },
      "execution_count": null,
      "outputs": []
    },
    {
      "cell_type": "code",
      "source": [
        "# A text file named \"matter.txt\" contains some text, which needs to be displayed such that \n",
        "# every next character is separated by a symbol \"#\". \n",
        "# Write a function definition for hash_display() in Python that would display \n",
        "# the entire content of the file matter.txt in the desired format.\n",
        "\n",
        "# Example :\n",
        "# If the file matter.txt has the following content stored in it :\n",
        "# THE WORLD IS ROUND\n",
        "\n",
        "# The function hash_display() should display the following content :\n",
        "# T#H#E# #W#O#R#L#D# #I#S# #R#O#U#N#D#\n",
        "\n",
        "file = open(\"matter.txt\", \"w\")\n",
        "file.write(\"THE WORLD IS ROUND\")\n",
        "file.close()\n",
        "\n",
        "file_open = open(\"matter.txt\",'r')\n",
        "Lines = file_open.readlines()\n",
        "words=\"\"\n",
        "for line in Lines:\n",
        "    for i in line:\n",
        "        words=words+i+\"#\"\n",
        "    print(words)\n",
        "file_open.close()"
      ],
      "metadata": {
        "id": "EEUkXvwNJSX6"
      },
      "execution_count": null,
      "outputs": []
    },
    {
      "cell_type": "code",
      "source": [
        "# Aditi has used a text editing software to type some text. After saving the article as WORDS.TXT, \n",
        "# she realised that she has wrongly typed alphabet J in place of alphabet I everywhere in the article.\n",
        "# Write a function definition for JTOI() in Python that would display the corrected version of entire content \n",
        "# of the file WORDS.TXT with all the alphabets \"J\" to be displayed as an alphabet \"I\" on screen.\n",
        "\n",
        "# Note: Assuming that WORD.TXT does not contain any J alphabet otherwise.\n",
        "\n",
        "# Example:\n",
        "# If Aditi has stored the following content in the file WORDS.TXT:\n",
        "# WELL, THJS JS A WORD BY JTSELF. YOU COULD STRETCH THJS TO BE A SENTENCE\n",
        "# The function JTOI() should display the following content:\n",
        "# WELL, THIS IS A WORD BY ITSELF. YOU COULD STRETCH THIS TO BE A SENTENCE\n",
        "\n",
        "file = open(\"WORDS.txt\", \"w\")\n",
        "file.write(\"WELL, THJS JS A WORD BY JTSELF. YOU COULD STRETCH THJS TO BE A SENTENCE\")\n",
        "file.close()\n",
        "\n",
        "file_open = open(\"WORDS.txt\",'r')\n",
        "Lines = file_open.readlines()\n",
        "sentance=\"\"\n",
        "for line in Lines:\n",
        "    for i in line:\n",
        "        if(i == 'J'):\n",
        "            sentance=sentance+\"I\"\n",
        "        else:\n",
        "            sentance=sentance+i\n",
        "    print(sentance)\n",
        "file_open.close()"
      ],
      "metadata": {
        "id": "AH1RMqpGJScQ"
      },
      "execution_count": null,
      "outputs": []
    },
    {
      "cell_type": "code",
      "source": [
        "# Write a function AMCount() in Python, which should read each character of a text file STORY.TXT, \n",
        "# should count and display the occurance of alphabets A and M (including small cases a and m too).\n",
        "# For Example:\n",
        "# If the file content is as follows:\n",
        "# Updated information\n",
        "# As simplified by official websites.\n",
        "# The EUCount() function should display the output as:\n",
        "# A or a:4\n",
        "# M or m :2\n",
        "\n",
        "def AMCount(Lines):\n",
        "    a_count=0\n",
        "    m_count=0\n",
        "    for line in Lines:\n",
        "        for i in line:\n",
        "            if(i.upper() == 'A'):\n",
        "                a_count=a_count+1\n",
        "            elif(i.upper() == 'M'):\n",
        "                m_count=m_count+1\n",
        "    print(\"A or a:\", a_count)\n",
        "    print(\"M or m:\", m_count)\n",
        "    \n",
        "file_open = open(\"story.txt\",'r')\n",
        "Lines = file_open.readlines()\n",
        "AMCount(Lines)\n",
        "file_open.close()"
      ],
      "metadata": {
        "id": "wvu0GofyJSg6"
      },
      "execution_count": null,
      "outputs": []
    },
    {
      "cell_type": "code",
      "source": [
        "# A binary file \"Book.dat\" has structure [BookNo, Book_Name, Author, Price].\n",
        "# i. Write a user defined function createFile() to input data for a record and add to Book.dat.\n",
        "# ii. Write a function countRec(Author) in Python which accepts the Author name as parameter \n",
        "# and count and return number of books by the given Author are stored in the binary file \"Book.dat\"\n",
        "\n",
        "import pickle\n",
        "def createFile():\n",
        "    file = open(\"Book.dat\", \"wb\")\n",
        "    pickle.dump([['BookNo', 'Book_Name', 'Author', 'Price']\n",
        "                 ,['BookNo1', 'Book_Name1', 'Author1', 'Price1']\n",
        "                 ,['BookNo2', 'Book_Name2', 'Author1', 'Price1']\n",
        "                 ,['BookNo3', 'Book_Name3', 'Author1', 'Price1']\n",
        "                 ,['BookNo4', 'Book_Name4', 'Author1', 'Price1']],file)\n",
        "    \n",
        "def countRec(Author):\n",
        "    file = open(\"Book.dat\", \"rb\")\n",
        "    Lines = pickle.load(file)\n",
        "    count=0\n",
        "    for i  in range(len(Lines)):\n",
        "        if Lines[i][2] == Author:\n",
        "            count=count+1\n",
        "    print(Author, \" = \", count )\n",
        "\n",
        "createFile()\n",
        "countRec(\"Author1\")"
      ],
      "metadata": {
        "id": "MiFuldk4Jgrt"
      },
      "execution_count": null,
      "outputs": []
    },
    {
      "cell_type": "code",
      "source": [
        "# A binary file \"STUDENT.DAT\" has structure (admission_number, Name, Percentage). \n",
        "# Write a function count_rec() in Python that would read contents of the file \"STUDENT.DAT\" \n",
        "# and display the details of those students whose percentage is above 75. \n",
        "# Also display number of students scoring above 75%\n",
        "import pickle\n",
        "def createFile():\n",
        "    file = open(\"STUDENT.dat\", \"wb\")\n",
        "    pickle.dump((('1', 'student1', 50)\n",
        "                 ,('2', 'student2', 30)\n",
        "                 ,('3', 'student3', 90)\n",
        "                 ,('4', 'student4', 75)\n",
        "                 ,('5', 'student5', 80)),file)\n",
        "    \n",
        "def countRec():\n",
        "    file = open(\"STUDENT.dat\", \"rb\")\n",
        "    Lines = pickle.load(file)\n",
        "    student=[]\n",
        "    count=0\n",
        "    for i  in range(len(Lines)):\n",
        "        if Lines[i][2] >75:\n",
        "            print(\"Admission number = \",Lines[i][0],\" Name = \", Lines[i][1])\n",
        "            count=count+1\n",
        "            \n",
        "    print(\"This \",count,\" student scored above 75 percentage\" )\n",
        "\n",
        "createFile()\n",
        "countRec()"
      ],
      "metadata": {
        "id": "z12BiIwWJlla"
      },
      "execution_count": null,
      "outputs": []
    },
    {
      "cell_type": "code",
      "source": [
        "# Given a binary file employee.dat, created using dictionary object having keys: (empcode, name, and salary)\n",
        "\n",
        "# Write a python function that add one more record at the end of file.\n",
        "# Write a python function that display all employee records whose salary is more that 30000\n",
        "import pickle\n",
        "\n",
        "def createFile():\n",
        "    file = open(\"employee.dat\", \"wb\")\n",
        "    pickle.dump((('1', 'emp1', 33000)\n",
        "                 ,('2', 'emp2', 34000)\n",
        "                 ,('3', 'emp3', 20000)\n",
        "                 ,('4', 'emp4', 35000)\n",
        "                 ,('5', 'emp5', 22000)),file)\n",
        "\n",
        "def AddData():\n",
        "    file = open(\"employee.dat\", \"rb\")\n",
        "    Lines = pickle.load(file)\n",
        "    Lines = list(Lines)\n",
        "    Lines.append(('6', 'emp6', 22000))\n",
        "    Lines = tuple(Lines)\n",
        "    file = open(\"employee.dat\", \"wb\")\n",
        "    pickle.dump(Lines,file)\n",
        "    \n",
        "\n",
        "def CountRec():\n",
        "    file = open(\"employee.dat\", \"rb\")\n",
        "    Lines = pickle.load(file)\n",
        "    for i  in range(len(Lines)):\n",
        "        if Lines[i][2] >30000:\n",
        "            print(\"emp number = \",Lines[i][0],\" emp Name = \", Lines[i][1],\" emp salary = \", Lines[i][2])\n",
        "            \n",
        "createFile()\n",
        "AddData()\n",
        "CountRec()"
      ],
      "metadata": {
        "id": "o5F_yh2pJoiL"
      },
      "execution_count": null,
      "outputs": []
    },
    {
      "cell_type": "code",
      "source": [
        "# Write a function to search and display details of student whose rollno is '1005' \n",
        "# from the binary file student.dat having structure [rollno, name, class and fees].\n",
        "import pickle\n",
        "def createFile():\n",
        "    file = open(\"student.dat\", \"wb\")\n",
        "    pickle.dump([[1001, 'student1','class1' ,50]\n",
        "                 ,[1002, 'student2', 'class1',30]\n",
        "                 ,[1003, 'student3', 'class1',90]\n",
        "                 ,[1004, 'student4', 'class1',75]\n",
        "                 ,[1005, 'student5', 'class1',80]],file)\n",
        "    \n",
        "def CountRec():\n",
        "    file = open(\"student.dat\", \"rb\")\n",
        "    Lines = pickle.load(file)\n",
        "    for i  in range(len(Lines)):\n",
        "        if Lines[i][0] ==1005:\n",
        "            print(\"Roll number = \",Lines[i][0],\"  Name = \", Lines[i][1],\" class = \", Lines[i][2],\" Fees = \", Lines[i][3])\n",
        "            \n",
        "createFile()\n",
        "CountRec()"
      ],
      "metadata": {
        "id": "fUoSR2E1JpBs"
      },
      "execution_count": null,
      "outputs": []
    },
    {
      "cell_type": "code",
      "source": [
        "# A binary file school.dat has structure(rollno, name, class, fees)\n",
        "\n",
        "# Write a definition for function total_fees( ) that reads each object of file and calculate \n",
        "# the total fees of students and display the same.\n",
        "import pickle\n",
        "def createFile():\n",
        "    file = open(\"school.dat\", \"wb\")\n",
        "    pickle.dump(((1001, 'student1','class1' ,50)\n",
        "                 ,(1002, 'student2', 'class1',30)\n",
        "                 ,(1003, 'student3', 'class1',90)\n",
        "                 ,(1004, 'student4', 'class1',75)\n",
        "                 ,(1005, 'student5', 'class1',80)),file)\n",
        "def CountRec():\n",
        "    file = open(\"student.dat\", \"rb\")\n",
        "    Lines = pickle.load(file)\n",
        "    count=0\n",
        "    for i  in range(len(Lines)):\n",
        "        count=count+Lines[i][3]\n",
        "    print(\"Total = \",count)  \n",
        "createFile()\n",
        "CountRec()"
      ],
      "metadata": {
        "id": "Rey0zdJuJpLI"
      },
      "execution_count": null,
      "outputs": []
    },
    {
      "cell_type": "code",
      "source": [
        "# A binary file players.dat, containing records of following list format: [code, name, country and total runs]\n",
        "\n",
        "# 1. Write a python function that display all records where player name starts from 'A'\n",
        "# 2. Write a python function that accept country as an argument and count and display \n",
        "#     the number of players of that country.\n",
        "# 3. Write a python function that add one record at the end of file.\n",
        "\n",
        "import pickle\n",
        "def createFile():\n",
        "    file = open(\"players.dat\", \"wb\")\n",
        "    pickle.dump([[1001, 'A-player1','x' ,50]\n",
        "                 ,[1002, 'B-player2', 'y',30]\n",
        "                 ,[1003, 'A-player3', 'z',90]\n",
        "                 ,[1004, 'C-player4', 'z',75]\n",
        "                 ,[1005, 'A-player5', 'x',80]],file)\n",
        "def DisplayAll():\n",
        "    file = open(\"players.dat\", \"rb\")\n",
        "    Lines = pickle.load(file)\n",
        "    for i  in range(len(Lines)):\n",
        "        if Lines[i][1].startswith(\"A\"):\n",
        "            print(Lines[i])\n",
        "            \n",
        "def countCountry(val):\n",
        "    file = open(\"players.dat\", \"rb\")\n",
        "    Lines = pickle.load(file)\n",
        "    count=0\n",
        "    for i  in range(len(Lines)):\n",
        "        if Lines[i][2]==val:\n",
        "            count=count+1\n",
        "    print(\"Total =\", count)\n",
        "\n",
        "def AddData():\n",
        "    file = open(\"players.dat\", \"rb\")\n",
        "    Lines = pickle.load(file)\n",
        "    Lines = list(Lines)\n",
        "    Lines.append([1006, 'B-player6', 'x',80])\n",
        "    file = open(\"players.dat\", \"wb\")\n",
        "    pickle.dump(Lines,file)\n",
        "    \n",
        "    \n",
        "createFile()\n",
        "DisplayAll()\n",
        "countCountry(\"x\")\n",
        "AddData()"
      ],
      "metadata": {
        "id": "PxW0wlsRJpQL"
      },
      "execution_count": null,
      "outputs": []
    },
    {
      "cell_type": "code",
      "source": [
        "# Given a binary file game.dat, containing records of following list format: [game_name, participants]\n",
        "\n",
        "# Write a function in Python that would read contents from the file game.dat and \n",
        "# creates a file named basket.dat copying only those records from game.dat where the game name is \"Basket Ball\"\n",
        "\n",
        "import pickle\n",
        "def createFile():\n",
        "    file = open(\"game.dat\", \"wb\")\n",
        "    pickle.dump([['Cricket',50]\n",
        "                 ,['Cricket', 30]\n",
        "                 ,['Basket Ball',90]\n",
        "                 ,['Basket Ball',75]\n",
        "                 ,['Basket Ball', 80]],file)\n",
        "    \n",
        "def NewFile():\n",
        "    file = open(\"game.dat\", \"rb\")\n",
        "    Lines = pickle.load(file)\n",
        "    Content=[]\n",
        "    for i  in range(len(Lines)):\n",
        "        if Lines[i][0]==\"Basket Ball\":\n",
        "            Content.append(Lines[i])\n",
        "    file = open(\"basket.dat\", \"wb\")\n",
        "    pickle.dump(Content,file)\n",
        "\n",
        "createFile()\n",
        "NewFile()"
      ],
      "metadata": {
        "id": "Y9I3W4cMJxkV"
      },
      "execution_count": null,
      "outputs": []
    },
    {
      "cell_type": "code",
      "source": [
        "#Regex"
      ],
      "metadata": {
        "id": "XXU9MKKPgTCZ"
      },
      "execution_count": null,
      "outputs": []
    },
    {
      "cell_type": "code",
      "source": [
        "#Write the regular expression and use proper method which gives output as:- 'cat' in str.\n",
        "import re\n",
        "str = 'cat mat bat rat'\n",
        "print(re.findall('cat',str))"
      ],
      "metadata": {
        "id": "XTpxxFHBgZa0"
      },
      "execution_count": null,
      "outputs": []
    },
    {
      "cell_type": "code",
      "source": [
        "#Write the regular expression and use proper method which gives output as:- 'rat' in str.\n",
        "import re\n",
        "str = 'cat mat bat rat'\n",
        "print(re.findall('rat',str))"
      ],
      "metadata": {
        "id": "EVvTHXZpgcqI"
      },
      "execution_count": null,
      "outputs": []
    },
    {
      "cell_type": "code",
      "source": [
        "#Write the regular expression and use proper method which gives output as:- ['mat', 'man'] in str.\n",
        "import re\n",
        "str = 'cat mat bat rat man'\n",
        "print(re.findall('ma[a-z]*',str))"
      ],
      "metadata": {
        "id": "jAAcB1ffgftH"
      },
      "execution_count": null,
      "outputs": []
    },
    {
      "cell_type": "code",
      "source": [
        "#Write the regular expression and use proper method which gives output as:- \n",
        "#['Python', 's', 'Programming', 'is', 'very', 'easy', 'to', 'learn'] in str.\n",
        "import re\n",
        "str = \"Python's Programming: is very easy to learn\"\n",
        "print(re.findall('[A-Za-z]+',str))"
      ],
      "metadata": {
        "id": "yHoP2NkJggZP"
      },
      "execution_count": null,
      "outputs": []
    },
    {
      "cell_type": "code",
      "source": [
        "#Write the regular expression and use proper method which gives output as:- Python Programming: is very easy to learn in str.\n",
        "import re\n",
        "str = \"Python's Programming: is very easy to learn\"\n",
        "print(re.sub(\"'s\",\"\",str))"
      ],
      "metadata": {
        "id": "er2wjx3Ggin9"
      },
      "execution_count": null,
      "outputs": []
    },
    {
      "cell_type": "code",
      "source": [
        "#Write the regular expression and use proper method which Retrieves all words starting with p.\n",
        "#Output:- ['peter', 'per', 'picked', 'peck', 'pickled', 'peppers']\n",
        "import re\n",
        "str = \"peter giper picked a peck of pickled peppers\"\n",
        "print(re.findall('p[A-Za-z]+',str))"
      ],
      "metadata": {
        "id": "MAISp6nxgl0M"
      },
      "execution_count": null,
      "outputs": []
    },
    {
      "cell_type": "code",
      "source": [
        "#Write the regular expression and use proper method which Retrieves all words starting with p except 'per' which is not a separate word.\n",
        "#Output:- ['peter', 'picked', 'peck', 'pickled', 'peppers']\n",
        "import re\n",
        "str = \"peter giper picked a peck of pickled peppers\"\n",
        "s = re.sub('\\s[A-Za-z]+p[A-Za-z]+\\s',' ',str)\n",
        "print(re.findall('p[A-Za-z]+',s))"
      ],
      "metadata": {
        "id": "yoefGI_bgmec"
      },
      "execution_count": null,
      "outputs": []
    },
    {
      "cell_type": "code",
      "source": [
        "#Write the regular expression and use proper method which Retrieves all words starting with a digit.\n",
        "#Output:- ['8th', '11th']\n",
        "import re\n",
        "str = 'The election in delhi will be held on 8th and result for the same will be declared on 11th'\n",
        "# str = re.sub('^','*',str)\n",
        "# str = re.sub('\\s','*',str)\n",
        "print(re.findall('([0-9]+[A-Za-z]+)',str))"
      ],
      "metadata": {
        "id": "NiIQlalkgo_0"
      },
      "execution_count": null,
      "outputs": []
    },
    {
      "cell_type": "code",
      "source": [
        "#Write the regular expression and use proper method which Retrieves all words having 5 characters.\n",
        "#Output:- ['peter', 'giper']\n",
        "import re\n",
        "str = \"peter giper picked a peck of pickled peppers\"\n",
        "str = re.sub('^|$|\\s','##',str)\n",
        "s = re.findall('#(\\w{5})#',str)\n",
        "print(s)"
      ],
      "metadata": {
        "id": "XbYTXNzfgrgO"
      },
      "execution_count": null,
      "outputs": []
    },
    {
      "cell_type": "code",
      "source": [
        "#Write the regular expression and use proper method which Retrieves all words having at least 4 characters.\n",
        "#Output:- ['Retrieving',  'words', 'having', 'least', 'characters']\n",
        "import re\n",
        "str = \"Retrieving all words having at least 4 characters\"\n",
        "str = re.sub('^|$|\\s','##',str)\n",
        "s = re.findall('#(\\w{5,})#',str)\n",
        "print(s)"
      ],
      "metadata": {
        "id": "ytuAMXSrgv37"
      },
      "execution_count": null,
      "outputs": []
    },
    {
      "cell_type": "code",
      "source": [
        "#Write the regular expression and use proper method which Retrieves all words having at characters between 3 to 5 words.\n",
        "#Output:- ['all', 'words', 'least']\n",
        "import re\n",
        "str = \"Retrieving all words having at least 4 characters\"\n",
        "str = re.sub('^|$|\\s','##',str)\n",
        "s = re.findall('#(\\w{3,5})#',str)\n",
        "print(s)"
      ],
      "metadata": {
        "id": "eMkha6LHgyI8"
      },
      "execution_count": null,
      "outputs": []
    },
    {
      "cell_type": "code",
      "source": [
        "#Write the regular expression and use proper method which Retrieves only digits from the string.\n",
        "#Output:- ['8', '11']\n",
        "import re\n",
        "str = 'The election in delhi will be held on 8 and result for the same will be declared on 11'\n",
        "s = re.findall('[0-9]+',str)\n",
        "print(s)"
      ],
      "metadata": {
        "id": "sxVYTVq-gy6e"
      },
      "execution_count": null,
      "outputs": []
    },
    {
      "cell_type": "code",
      "source": [
        "#Write the regular expression and use proper method which Retrieves last word if starts with c from the given string.\n",
        "#Output:- ['characters']\n",
        "import re\n",
        "str = \"Retrieving all words having at least 4 characters\"\n",
        "s = re.findall('c[A-Za-z]+',str)\n",
        "print(s)"
      ],
      "metadata": {
        "id": "-N1bq9klg1Pc"
      },
      "execution_count": null,
      "outputs": []
    },
    {
      "cell_type": "code",
      "source": [
        "#Write the regular expression and use proper method which Retrieves a phone number from the given string.\n",
        "#Output:- 1234567890\n",
        "import re\n",
        "str = \"Learnbay : 1234567890\"\n",
        "s = re.findall('([0-9]+)',str)\n",
        "print(s)"
      ],
      "metadata": {
        "id": "9ls4OyOJg1TW"
      },
      "execution_count": null,
      "outputs": []
    },
    {
      "cell_type": "code",
      "source": [
        "##Write the regular expression and use proper method which Etracts name from the string but not number.\n",
        "#Output:- Learnbay : \n",
        "import re\n",
        "str = \"Learnbay : 1234567890\"\n",
        "s = re.findall('([A-Za-z]+)',str)\n",
        "print(s)"
      ],
      "metadata": {
        "id": "qPizTzYBg1XH"
      },
      "execution_count": null,
      "outputs": []
    },
    {
      "cell_type": "code",
      "source": [
        "##Write the regular expression and use proper method which Retrieves name starting with 'an' or 'ak'.\n",
        "#Output:- ['anil', 'akhil', 'anant', 'ankur']\n",
        "import re\n",
        "str = 'anil akhil anant abhi arun arati arundhati abhijit ankur'\n",
        "s = re.findall('a[nk]+[A-Za-z]+',str)\n",
        "print(s)"
      ],
      "metadata": {
        "id": "VCth-C9Gg9Jn"
      },
      "execution_count": null,
      "outputs": []
    }
  ]
}